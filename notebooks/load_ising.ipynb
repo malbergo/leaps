{
 "cells": [
  {
   "cell_type": "code",
   "execution_count": 13,
   "id": "4b84c22d-95be-4f26-917f-e39d980e7fa0",
   "metadata": {},
   "outputs": [],
   "source": [
    "import torch\n",
    "\n",
    "import lightning as L\n",
    "import numpy as np\n",
    "import matplotlib.pyplot as plt\n",
    "\n",
    "import sys\n",
    "extra_path = \"/n/home08/albergo/projects/discrete-diffusion/leaps/\"\n",
    "if extra_path not in sys.path:\n",
    "    sys.path.append(extra_path)\n",
    "    \n",
    "from src.modules.trainer import IsingLightningModule\n",
    "from src.modules.sampler import DiscreteJarzynskiIntegrator\n",
    "\n"
   ]
  },
  {
   "cell_type": "code",
   "execution_count": 8,
   "id": "c2c720d2-6e9d-463d-8d63-aca3013e2de0",
   "metadata": {},
   "outputs": [
    {
     "name": "stdout",
     "output_type": "stream",
     "text": [
      "True\n",
      "cuda:0\n"
     ]
    }
   ],
   "source": [
    "device = 'cuda:0' if torch.cuda.is_available() else 'cpu'\n",
    "print(torch.cuda.is_available())\n",
    "print(device)\n",
    "\n",
    "def grab(x):\n",
    "    if torch.is_tensor(x):\n",
    "        x = x.detach().cpu().numpy()\n",
    "    return x\n",
    "\n",
    "def ess(At):\n",
    "    return torch.mean(torch.exp(At))**2 / torch.mean(torch.exp(2*At))"
   ]
  },
  {
   "cell_type": "markdown",
   "id": "4ec91773-c7e9-468a-9beb-4813f5842fb7",
   "metadata": {},
   "source": [
    "### Load model"
   ]
  },
  {
   "cell_type": "code",
   "execution_count": 5,
   "id": "6d828c5d-2b65-4cca-b95d-36c3c951dd79",
   "metadata": {},
   "outputs": [
    {
     "name": "stdout",
     "output_type": "stream",
     "text": [
      "/n/holylabs/LABS/albergo_lab/Lab/albergo/projects/discrete-diffusion/leaps/ising/L15/expts/ising-L15-4/ckpts/last.ckpt\n"
     ]
    }
   ],
   "source": [
    "L        = 15\n",
    "target     = 'ising'\n",
    "run_num  = '4'\n",
    "# epoch    = 0\n",
    "# step     = 200\n",
    "prior    = 'normal'\n",
    "base_dir = '/n/holylabs/LABS/albergo_lab/Lab/albergo/projects/discrete-diffusion/leaps'\n",
    "\n",
    "fpath = f\"{base_dir}/{target}/L{L}/expts/{target}-L{L}-{run_num}/ckpts/\"\n",
    "# ckpt  = f\"epoch={epoch}-step={step}.ckpt\"\n",
    "ckpt  = f\"last.ckpt\"\n",
    "\n",
    "print(fpath+ckpt)"
   ]
  },
  {
   "cell_type": "code",
   "execution_count": 6,
   "id": "46cff447-bba1-4d65-ae41-1bef630ff662",
   "metadata": {},
   "outputs": [
    {
     "name": "stdout",
     "output_type": "stream",
     "text": [
      "Js: tensor(0.4000) tensor(0.)\n",
      "mus: tensor(0.) tensor(0.)\n",
      "Bs: tensor(0.) tensor(0.)\n",
      "betas: tensor(0.7000) tensor(0.7000)\n"
     ]
    }
   ],
   "source": [
    "model = IsingLightningModule.load_from_checkpoint(fpath + ckpt)"
   ]
  },
  {
   "cell_type": "code",
   "execution_count": null,
   "id": "0b3ce794-e7e3-43b8-865f-61434d663828",
   "metadata": {},
   "outputs": [],
   "source": [
    "model"
   ]
  },
  {
   "cell_type": "markdown",
   "id": "96fb33f5-b6dc-4d00-96a5-7db2dfdc9f0a",
   "metadata": {},
   "source": [
    "### Sample model"
   ]
  },
  {
   "cell_type": "code",
   "execution_count": 24,
   "id": "8cc71abc-9af2-4d4a-b217-57647ff3a3ba",
   "metadata": {},
   "outputs": [],
   "source": [
    "final_t = 1.0\n",
    "n_step = 100\n",
    "L = 15\n",
    "bs = 100\n",
    "t_set = final_t*torch.rand(n_step - 1) # -1 because we append 1.0 at the end\n",
    "t_set = torch.cat((torch.tensor([0.0]), t_set, torch.tensor([final_t])))\n",
    "# Sort the numbers to get randomly spaced samples\n",
    "ts = torch.sort(t_set).values.to(device)\n",
    "eps = torch.tensor(n_step).to(device)\n",
    "jit = DiscreteJarzynskiIntegrator(model.Energy, eps, ts, Qt_net=model.net, transport = True, \n",
    "                              n_save = 50, resample = False, resample_thres = 0.5)\n",
    "\n",
    "\n",
    "sigma_vec = 2 * torch.randint(0,2,size=(bs, L, L)).float().to(device) - 1\n",
    "sigmas, As = jit.rollout(sigma_vec) \n",
    "\n",
    "sigmas = sigmas.detach()\n",
    "As     = As.detach()"
   ]
  },
  {
   "cell_type": "markdown",
   "id": "79a84fff-aa61-426d-94a9-57db5b580dde",
   "metadata": {},
   "source": [
    "### look at samples"
   ]
  },
  {
   "cell_type": "code",
   "execution_count": 25,
   "id": "a944bec9-b8a0-45c6-a020-af491fb916cb",
   "metadata": {},
   "outputs": [],
   "source": [
    "def visualize_lattices(phi, n_rows = 2, n_cols = 5, save = None):\n",
    "    \"\"\"\n",
    "    Visualize a subset of the lattices in a grid.\n",
    "\n",
    "    Parameters:\n",
    "    - phi: A tensor of shape [bs, L, L] representing the batch of lattices.\n",
    "    - n_rows: Number of rows in the subplot grid.\n",
    "    - n_cols: Number of columns in the subplot grid.\n",
    "    - title: The title of the plot.\n",
    "    \"\"\"\n",
    "    bs, L, _ = phi.shape\n",
    "    n_plots = min(n_rows * n_cols, bs)\n",
    "    print(\"N ROW:\", n_rows)\n",
    "    print(\"N COL:\", n_cols)\n",
    "\n",
    "    fig, axes = plt.subplots(n_rows, n_cols, figsize=(8, 5))\n",
    "\n",
    "    indices = np.random.choice(bs, n_plots, replace=False)  # Randomly select lattice indices\n",
    "        \n",
    "    for i, idx in enumerate(indices):\n",
    "        row = i // n_cols\n",
    "        col = i % n_cols\n",
    "        ax = axes[row, col]\n",
    "        # cmap = sns.cubehelix_palette(start=-0.8, rot=0.4, gamma=1.0, dark=0.2, light=0.9, reverse=False, as_cmap=True)\n",
    "        v = 0.5\n",
    "        im = ax.imshow(phi[idx], cmap='viridis', origin='lower', vmin=-v, vmax=v)\n",
    "        ax.axis('off') \n",
    "\n",
    "    fig.subplots_adjust( wspace=0.1, hspace=-0.5)\n",
    "    \n",
    "    if save is not None:\n",
    "        plt.savefig(save, bbox_inches='tight')\n",
    "    # plt.tight_layout()\n",
    "    plt.show()"
   ]
  },
  {
   "cell_type": "code",
   "execution_count": 26,
   "id": "6e3e77e2-8c79-4831-8756-8b572a9830ec",
   "metadata": {},
   "outputs": [
    {
     "name": "stdout",
     "output_type": "stream",
     "text": [
      "N ROW: 2\n",
      "N COL: 5\n"
     ]
    },
    {
     "data": {
      "image/png": "[encoded data removed]",
      "text/plain": [
       "<Figure size 800x500 with 10 Axes>"
      ]
     },
     "metadata": {},
     "output_type": "display_data"
    }
   ],
   "source": [
    "visualize_lattices(grab(sigmas[-1]))"
   ]
  },
  {
   "cell_type": "code",
   "execution_count": null,
   "id": "b3ba0ca2-0734-478e-8c8b-8bd71af556c5",
   "metadata": {},
   "outputs": [],
   "source": []
  }
 ],
 "metadata": {
  "kernelspec": {
   "display_name": "Python [conda env:.conda-tensor]",
   "language": "python",
   "name": "conda-env-.conda-tensor-py"
  },
  "language_info": {
   "codemirror_mode": {
    "name": "ipython",
    "version": 3
   },
   "file_extension": ".py",
   "mimetype": "text/x-python",
   "name": "python",
   "nbconvert_exporter": "python",
   "pygments_lexer": "ipython3",
   "version": "3.12.8"
  }
 },
 "nbformat": 4,
 "nbformat_minor": 5
}
