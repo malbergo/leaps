{
 "cells": [
  {
   "cell_type": "code",
   "execution_count": 16,
   "id": "4b84c22d-95be-4f26-917f-e39d980e7fa0",
   "metadata": {},
   "outputs": [],
   "source": [
    "import torch\n",
    "\n",
    "import lightning as L\n",
    "import numpy as np\n",
    "import matplotlib.pyplot as plt\n",
    "import time\n",
    "from tqdm import tqdm\n",
    "import sys\n",
    "import os\n",
    "base_path = os.getcwd() + \"/..\"\n",
    "\n",
    "if base_path not in sys.path:\n",
    "    sys.path.append(base_path)\n",
    "    \n",
    "from src.modules.trainer import IsingLightningModule\n",
    "from src.modules.sampler import DiscreteJarzynskiIntegrator"
   ]
  },
  {
   "cell_type": "code",
   "execution_count": 17,
   "id": "c2c720d2-6e9d-463d-8d63-aca3013e2de0",
   "metadata": {},
   "outputs": [
    {
     "name": "stdout",
     "output_type": "stream",
     "text": [
      "True\n",
      "cuda:0\n"
     ]
    }
   ],
   "source": [
    "device = 'cuda:0' if torch.cuda.is_available() else 'cpu'\n",
    "print(torch.cuda.is_available())\n",
    "print(device)\n",
    "\n",
    "def grab(x):\n",
    "    if torch.is_tensor(x):\n",
    "        x = x.detach().cpu().numpy()\n",
    "    return x\n",
    "\n",
    "def ess(At):\n",
    "    return torch.mean(torch.exp(At))**2 / torch.mean(torch.exp(2*At))"
   ]
  },
  {
   "cell_type": "markdown",
   "id": "4ec91773-c7e9-468a-9beb-4813f5842fb7",
   "metadata": {},
   "source": [
    "## Load model"
   ]
  },
  {
   "cell_type": "code",
   "execution_count": 18,
   "id": "6d828c5d-2b65-4cca-b95d-36c3c951dd79",
   "metadata": {},
   "outputs": [
    {
     "name": "stdout",
     "output_type": "stream",
     "text": [
      "Js: tensor(1.) tensor(0.)\n",
      "Bs: tensor(0.) tensor(0.)\n",
      "betas: tensor(1.0010) tensor(1.0010)\n",
      "n_cat: 3\n",
      "Added warm_up of:  1000\n"
     ]
    }
   ],
   "source": [
    "L        = 15\n",
    "target     = 'potts'\n",
    "ckpt = f\"{base_path}/ckpts/potts_final.ckpt\"\n",
    "name = \"potts_critical\"\n",
    "\n",
    "model = IsingLightningModule.load_from_checkpoint(ckpt).to(device) #The IsingLightningModule includes the Potts case"
   ]
  },
  {
   "cell_type": "markdown",
   "id": "a9873a3d-4263-416e-9619-29a5b30b9f0d",
   "metadata": {},
   "source": [
    "## Initialize simulator"
   ]
  },
  {
   "cell_type": "code",
   "execution_count": 19,
   "id": "35987f99-b006-4930-b042-ef95170de201",
   "metadata": {},
   "outputs": [],
   "source": [
    "n_step = 300\n",
    "discretization = \"exp_2\"\n",
    "if discretization == \"uniform\":\n",
    "    ts = torch.linspace(0, final_t, n_step + 1)\n",
    "elif discretization == \"tanh\":\n",
    "    ts = torch.tanh(torch.pi*torch.linspace(0, final_t, n_step + 1))\n",
    "elif discretization == \"exp\":\n",
    "    ts = 1-torch.exp(-torch.linspace(0, 7, n_step + 1))\n",
    "    ts = ts/ts[-1]\n",
    "elif discretization == \"exp_2\":\n",
    "    ts = 1-torch.exp(-torch.linspace(0, 5, n_step + 1))\n",
    "    ts = ts**3\n",
    "    ts = ts/ts[-1]\n",
    "else:\n",
    "    raise NotImplementedError()\n",
    "\n",
    "final_t = 1.0\n",
    "eps = torch.tensor(n_step).to(device)\n",
    "L = 15\n",
    "bs = 100\n",
    "n_batches = 5 #00\n",
    "jit = DiscreteJarzynskiIntegrator(\n",
    "    model.Energy, eps, ts,\n",
    "    Qt_net=model.net, transport=True,\n",
    "    n_mcmc_per_net=0, # We don't use any MCMC here for inference (in a real use-case, you probably would)\n",
    "    n_save=n_step,\n",
    "    resample=False, \n",
    "    resample_thres=0.7, \n",
    "    compute_is_weights=True, q=3, \n",
    "    model_class='potts',\n",
    ")"
   ]
  },
  {
   "cell_type": "markdown",
   "id": "22b5a509-05b2-4544-b3d2-d20f29d3de47",
   "metadata": {},
   "source": [
    "## Evaluate effective sample size (ESS)"
   ]
  },
  {
   "cell_type": "code",
   "execution_count": 20,
   "id": "5a9bf83f-4b80-435e-b033-ce3849019ef8",
   "metadata": {},
   "outputs": [
    {
     "name": "stderr",
     "output_type": "stream",
     "text": [
      "100%|██████████| 5/5 [00:43<00:00,  8.66s/it]"
     ]
    },
    {
     "name": "stdout",
     "output_type": "stream",
     "text": [
      "ESS of potts_critical: 0.3075 (NOTE: THIS IS AN ESS ESTIMATE WITH FEW SAMPLES, NEED TO RUN ON MORE SAMPLES TO GET BETTER ESTIMATE)\n"
     ]
    },
    {
     "name": "stderr",
     "output_type": "stream",
     "text": [
      "\n"
     ]
    }
   ],
   "source": [
    "sigmas_list = []\n",
    "As_list = []\n",
    "for idx in tqdm(range(n_batches)):\n",
    "    sigma_vec = torch.randint(0, 3, size=(bs, L, L)).to(device)\n",
    "    sigmas, As = jit.rollout(sigma_vec) \n",
    "    \n",
    "    sigmas = sigmas.detach().cpu()[-1]\n",
    "    As     = As.detach().cpu()[-1]\n",
    "\n",
    "    sigmas_list.append(sigmas)\n",
    "    As_list.append(As)\n",
    "\n",
    "sigmas = torch.concat(sigmas_list)\n",
    "As = torch.concat(As_list)\n",
    "    \n",
    "sigmas_numpy = grab(sigmas)\n",
    "As_numpy = grab(As)\n",
    "\n",
    "np.save(f'sigmas_{name}_disc={discretization}_nsteps={n_step}.npy', sigmas_numpy)\n",
    "np.save(f'As_{name}_disc={discretization}_nsteps={n_step}.npy', As_numpy)\n",
    "    \n",
    "ess_val = ess(As - As.mean())\n",
    "print(f\"ESS of {name}: {ess_val:.4f} (NOTE: THIS IS AN ESS ESTIMATE WITH FEW SAMPLES, NEED TO RUN ON MORE SAMPLES TO GET BETTER ESTIMATE)\")"
   ]
  },
  {
   "cell_type": "markdown",
   "id": "f45ae845-8231-4598-9729-1c559b12678e",
   "metadata": {},
   "source": [
    "## Simulate full trajectories to plot evolution of samples"
   ]
  },
  {
   "cell_type": "code",
   "execution_count": 5,
   "id": "8e04ee84-0fc1-429e-9fb3-174b6811cdf8",
   "metadata": {},
   "outputs": [],
   "source": [
    "sigma_vec = sigma_vec = torch.randint(0, 3, size=(bs, L, L)).to(device)\n",
    "sigmas, As = jit.rollout(sigma_vec) "
   ]
  },
  {
   "cell_type": "markdown",
   "id": "7e423976-dca9-454f-bc1e-6ecdaac251f3",
   "metadata": {},
   "source": [
    "Perform systematic resampling with IS weights."
   ]
  },
  {
   "cell_type": "code",
   "execution_count": 12,
   "id": "f20df2dd-756f-463c-b2d8-89b41b7a23a2",
   "metadata": {},
   "outputs": [],
   "source": [
    "from torch.distributions import Categorical\n",
    "k = 100\n",
    "is_weights = torch.softmax(As[-1],dim=0)\n",
    "dist = Categorical(is_weights)\n",
    "indices = dist.sample((k,))\n",
    "indices = torch.unique(indices)\n",
    "sigmas_select = sigmas[:,indices]"
   ]
  },
  {
   "cell_type": "markdown",
   "id": "79a84fff-aa61-426d-94a9-57db5b580dde",
   "metadata": {},
   "source": [
    "## Plot evolution of samples"
   ]
  },
  {
   "cell_type": "code",
   "execution_count": 21,
   "id": "49d263ba-709b-462b-a814-020c5fe1faa6",
   "metadata": {},
   "outputs": [],
   "source": [
    "import numpy as np\n",
    "import matplotlib.pyplot as plt\n",
    "import matplotlib.animation as animation\n",
    "import seaborn as sns\n",
    "from matplotlib.colors import ListedColormap\n",
    "\n",
    "def animate_lattices(\n",
    "    phi,\n",
    "    n_rows=4,\n",
    "    n_cols=8,\n",
    "    interval=200,\n",
    "    start_pause=5.0,\n",
    "    end_pause=10.0,\n",
    "    save_path=None\n",
    "):\n",
    "    \"\"\"\n",
    "    Animate the evolution of 3‑state Potts lattices over time in a grid,\n",
    "    with an extra hold at the start and end.\n",
    "\n",
    "    Parameters:\n",
    "    - phi: numpy array of shape (n_timesteps, batch_size, L, L),\n",
    "           values should be in {0,1,2}\n",
    "    - n_rows, n_cols: grid layout\n",
    "    - interval: ms between frames\n",
    "    - start_pause, end_pause: seconds to hold the first/last frame\n",
    "    - save_path: where to write the GIF (if provided)\n",
    "    \"\"\"\n",
    "    n_timesteps, batch_size, L, _ = phi.shape\n",
    "    n_plots = min(n_rows * n_cols, batch_size)\n",
    "    \n",
    "    # frames for start/end hold\n",
    "    hold_start = int(start_pause * 1000 / interval)\n",
    "    hold_end   = int(end_pause   * 2000 / interval)\n",
    "    frame_seq = [0]*hold_start + list(range(n_timesteps)) + [n_timesteps-1]*hold_end\n",
    "\n",
    "    # pick the first n_plots lattices\n",
    "    indices = np.arange(n_plots)\n",
    "\n",
    "    fig, axes = plt.subplots(n_rows, n_cols,\n",
    "                             figsize=(n_cols * 1.5, n_rows * 1.5))\n",
    "    axes = axes.flatten()\n",
    "\n",
    "    # discrete 3‑color map for Potts states 0,1,2\n",
    "    #palette = sns.color_palette(\"Set1\", n_colors=3)\n",
    "    #cmap = ListedColormap(palette)\n",
    "    palette = sns.color_palette(\"Dark2\", n_colors=3)\n",
    "    # Option B: your own custom hex colors (uncomment to use)\n",
    "    # palette = [\"#6a3d9a\", \"#ff7f00\", \"#1f78b4\"]\n",
    "    palette = [\"#440154\", \"#FDE725\", \"#ff7f00\"]\n",
    "    cmap = ListedColormap(palette)    \n",
    "    # initialize each subplot\n",
    "    ims = []\n",
    "    for idx, ax in zip(indices, axes):\n",
    "        im = ax.imshow(\n",
    "            phi[0, idx],\n",
    "            cmap=cmap,\n",
    "            origin='lower',\n",
    "            vmin=0, vmax=2,\n",
    "            interpolation='nearest'\n",
    "        )\n",
    "        ax.axis('off')\n",
    "        ims.append(im)\n",
    "\n",
    "    def update(frame_idx):\n",
    "        t = frame_seq[frame_idx]\n",
    "        for im, idx in zip(ims, indices):\n",
    "            im.set_data(phi[t, idx])\n",
    "        return ims\n",
    "\n",
    "    anim = animation.FuncAnimation(\n",
    "        fig,\n",
    "        update,\n",
    "        frames=len(frame_seq),\n",
    "        interval=interval,\n",
    "        blit=True\n",
    "    )\n",
    "\n",
    "    if save_path:\n",
    "        fps = 6*(1000 / interval)\n",
    "        anim.save(save_path, writer='pillow', fps=fps)\n",
    "\n",
    "    plt.close(fig)\n",
    "    return anim\n"
   ]
  },
  {
   "cell_type": "code",
   "execution_count": null,
   "id": "79bcc519-eaac-4b7a-bef8-5b8cb5592065",
   "metadata": {},
   "outputs": [],
   "source": [
    "save_path = \"../figures/potts.gif\"\n",
    "animate_lattices(sigmas_select.cpu().numpy(), save_path=save_path)"
   ]
  }
 ],
 "metadata": {
  "kernelspec": {
   "display_name": "Python [conda env:.conda-tensor]",
   "language": "python",
   "name": "conda-env-.conda-tensor-py"
  },
  "language_info": {
   "codemirror_mode": {
    "name": "ipython",
    "version": 3
   },
   "file_extension": ".py",
   "mimetype": "text/x-python",
   "name": "python",
   "nbconvert_exporter": "python",
   "pygments_lexer": "ipython3",
   "version": "3.12.8"
  }
 },
 "nbformat": 4,
 "nbformat_minor": 5
}
