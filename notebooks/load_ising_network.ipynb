{
 "cells": [
  {
   "cell_type": "code",
   "execution_count": 1,
   "id": "4b84c22d-95be-4f26-917f-e39d980e7fa0",
   "metadata": {},
   "outputs": [],
   "source": [
    "import torch\n",
    "\n",
    "import lightning as L\n",
    "import numpy as np\n",
    "import matplotlib.pyplot as plt\n",
    "import time\n",
    "from tqdm import tqdm\n",
    "import sys\n",
    "import os\n",
    "base_path = os.getcwd() + \"/..\"\n",
    "\n",
    "if base_path not in sys.path:\n",
    "    sys.path.append(base_path)\n",
    "    \n",
    "from src.modules.trainer import IsingLightningModule\n",
    "from src.modules.sampler import DiscreteJarzynskiIntegrator"
   ]
  },
  {
   "cell_type": "code",
   "execution_count": 4,
   "id": "c2c720d2-6e9d-463d-8d63-aca3013e2de0",
   "metadata": {},
   "outputs": [
    {
     "name": "stdout",
     "output_type": "stream",
     "text": [
      "True\n",
      "cuda:0\n"
     ]
    }
   ],
   "source": [
    "device = 'cuda:0' if torch.cuda.is_available() else 'cpu'\n",
    "print(torch.cuda.is_available())\n",
    "print(device)\n",
    "\n",
    "def grab(x):\n",
    "    if torch.is_tensor(x):\n",
    "        x = x.detach().cpu().numpy()\n",
    "    return x\n",
    "\n",
    "def ess(At):\n",
    "    return torch.mean(torch.exp(At))**2 / torch.mean(torch.exp(2*At))"
   ]
  },
  {
   "cell_type": "markdown",
   "id": "4ec91773-c7e9-468a-9beb-4813f5842fb7",
   "metadata": {},
   "source": [
    "## Load model"
   ]
  },
  {
   "cell_type": "code",
   "execution_count": 5,
   "id": "6d828c5d-2b65-4cca-b95d-36c3c951dd79",
   "metadata": {},
   "outputs": [
    {
     "name": "stdout",
     "output_type": "stream",
     "text": [
      "Js: tensor(1.) tensor(0.)\n",
      "mus: tensor(0.) tensor(0.)\n",
      "Bs: tensor(0.) tensor(0.)\n",
      "betas: tensor(0.4407) tensor(0.4407)\n"
     ]
    }
   ],
   "source": [
    "L        = 15\n",
    "ckpt = f\"{base_path}/ckpts/ising_final.ckpt\"\n",
    "name = \"ising_critical\"\n",
    "\n",
    "model = IsingLightningModule.load_from_checkpoint(ckpt).to(device)"
   ]
  },
  {
   "cell_type": "markdown",
   "id": "a9873a3d-4263-416e-9619-29a5b30b9f0d",
   "metadata": {},
   "source": [
    "## Initialize simulator"
   ]
  },
  {
   "cell_type": "code",
   "execution_count": 6,
   "id": "35987f99-b006-4930-b042-ef95170de201",
   "metadata": {},
   "outputs": [],
   "source": [
    "final_t = 1.0\n",
    "n_step = 100\n",
    "bs = 1000\n",
    "n_batches = 5 #0 Increase the number of samples for exact ESS estimate, here we decreased it to run faster\n",
    "ts = torch.linspace(0, final_t, n_step + 1)\n",
    "eps = torch.tensor(n_step).to(device)\n",
    "jit = DiscreteJarzynskiIntegrator(\n",
    "    model.Energy, eps, ts,\n",
    "    Qt_net=model.net, transport=True,\n",
    "    n_mcmc_per_net=0, #We do not use MCMC here during inference\n",
    "    n_save=n_step,\n",
    "    resample=False, \n",
    "    resample_thres=0.7, \n",
    "    compute_is_weights=False,\n",
    ")"
   ]
  },
  {
   "cell_type": "markdown",
   "id": "22b5a509-05b2-4544-b3d2-d20f29d3de47",
   "metadata": {},
   "source": [
    "## Evaluate effective sample size (ESS)"
   ]
  },
  {
   "cell_type": "code",
   "execution_count": 7,
   "id": "cb869827-1aec-4f16-9c66-3fd064a02af6",
   "metadata": {},
   "outputs": [
    {
     "name": "stderr",
     "output_type": "stream",
     "text": [
      "100%|██████████| 5/5 [01:28<00:00, 17.75s/it]\n"
     ]
    }
   ],
   "source": [
    "sigmas_list = []\n",
    "As_list = []\n",
    "for idx in tqdm(range(n_batches)):\n",
    "   \n",
    "    sigma_vec = 2 * torch.randint(0, 2, size=(bs, L, L)).float().to(device) - 1\n",
    "    sigmas, As = jit.rollout(sigma_vec) \n",
    "    \n",
    "    sigmas = sigmas.detach().cpu()[-1]\n",
    "    As     = As.detach().cpu()[-1]\n",
    "\n",
    "    sigmas_list.append(sigmas)\n",
    "    As_list.append(As)"
   ]
  },
  {
   "cell_type": "code",
   "execution_count": 8,
   "id": "0c59553b-d1af-462b-a739-88c4c3a53ee7",
   "metadata": {},
   "outputs": [
    {
     "name": "stdout",
     "output_type": "stream",
     "text": [
      "ESS of ising_critical: 0.6577 (NOTE: THIS IS AN ESS ESTIMATE WITH FEW SAMPLES, NEED TO RUN ON MORE SAMPLES TO GET BETTER ESTIMATE)\n"
     ]
    }
   ],
   "source": [
    "sigmas = torch.concat(sigmas_list)\n",
    "As = torch.concat(As_list)\n",
    "\n",
    "sigmas_numpy = grab(sigmas)\n",
    "As_numpy = grab(As)\n",
    "\n",
    "np.save(f'sigmas_{name}.npy', sigmas_numpy)\n",
    "np.save(f'As_{name}.npy', As_numpy)\n",
    "\n",
    "\n",
    "ess_val = ess(As - As.mean())\n",
    "print(f\"ESS of {name}: {ess_val:.4f} (NOTE: THIS IS AN ESS ESTIMATE WITH FEW SAMPLES, NEED TO RUN ON MORE SAMPLES TO GET BETTER ESTIMATE)\")"
   ]
  },
  {
   "cell_type": "markdown",
   "id": "f45ae845-8231-4598-9729-1c559b12678e",
   "metadata": {},
   "source": [
    "## Simulate full trajectories to plot evolution of samples"
   ]
  },
  {
   "cell_type": "code",
   "execution_count": null,
   "id": "8e04ee84-0fc1-429e-9fb3-174b6811cdf8",
   "metadata": {},
   "outputs": [],
   "source": [
    "sigma_vec = 2 * torch.randint(0, 2, size=(bs, L, L)).float().to(device) - 1\n",
    "sigmas, As = jit.rollout(sigma_vec) "
   ]
  },
  {
   "cell_type": "code",
   "execution_count": 9,
   "id": "17ba4103-cc2b-4bb3-b7c6-5860136f2e29",
   "metadata": {},
   "outputs": [
    {
     "data": {
      "text/plain": [
       "torch.Size([101, 1000, 15, 15])"
      ]
     },
     "execution_count": 9,
     "metadata": {},
     "output_type": "execute_result"
    }
   ],
   "source": [
    "sigmas.shape"
   ]
  },
  {
   "cell_type": "markdown",
   "id": "79a84fff-aa61-426d-94a9-57db5b580dde",
   "metadata": {},
   "source": [
    "## Plot evolution of samples"
   ]
  },
  {
   "cell_type": "code",
   "execution_count": 11,
   "id": "49d263ba-709b-462b-a814-020c5fe1faa6",
   "metadata": {},
   "outputs": [],
   "source": [
    "import numpy as np\n",
    "import matplotlib.pyplot as plt\n",
    "import matplotlib.animation as animation\n",
    "\n",
    "def animate_lattices(\n",
    "    phi,\n",
    "    n_rows=4,\n",
    "    n_cols=8,\n",
    "    interval=200,\n",
    "    start_pause=5.0,\n",
    "    end_pause=10.0,\n",
    "    save_path=None\n",
    "):\n",
    "    \"\"\"\n",
    "    Animate the evolution of lattices over time in a grid and save as a GIF,\n",
    "    with an extra hold at the start and end.\n",
    "\n",
    "    Parameters:\n",
    "    - phi: numpy array of shape (n_timesteps, batch_size, L, L)\n",
    "    - n_rows, n_cols: grid layout\n",
    "    - interval: ms between frames\n",
    "    - start_pause, end_pause: seconds to hold the first/last frame\n",
    "    - save_path: where to write the GIF (if provided)\n",
    "    \"\"\"\n",
    "    n_timesteps, batch_size, L, _ = phi.shape\n",
    "    n_plots = min(n_rows * n_cols, batch_size)\n",
    "    \n",
    "    # compute how many frames correspond to the pause durations\n",
    "    hold_start = int(start_pause * 1000 / interval)\n",
    "    hold_end   = int(end_pause   * 1000 / interval)\n",
    "    \n",
    "    # build the frame sequence: [0,...,0, 0,1,2,...,T-1, T-1,...,T-1]\n",
    "    frame_seq = [0] * hold_start \\\n",
    "                + list(range(n_timesteps)) \\\n",
    "                + [n_timesteps - 1] * hold_end\n",
    "\n",
    "    # which lattice indices to show\n",
    "    indices = np.arange(n_plots)\n",
    "\n",
    "    fig, axes = plt.subplots(n_rows, n_cols,\n",
    "                             figsize=(n_cols * 1.5, n_rows * 1.5))\n",
    "    axes = axes.flatten()\n",
    "\n",
    "    v = np.max(np.abs(phi))  # fixed color scale\n",
    "    ims = []\n",
    "    for idx, ax in zip(indices, axes):\n",
    "        im = ax.imshow(phi[0, idx],\n",
    "                       cmap='viridis',\n",
    "                       origin='lower',\n",
    "                       vmin=-v, vmax=v)\n",
    "        ax.axis('off')\n",
    "        ims.append(im)\n",
    "\n",
    "    def update(frame_idx):\n",
    "        actual_t = frame_seq[frame_idx]\n",
    "        for im, idx in zip(ims, indices):\n",
    "            im.set_array(phi[actual_t, idx])\n",
    "        return ims\n",
    "\n",
    "    anim = animation.FuncAnimation(\n",
    "        fig,\n",
    "        update,\n",
    "        frames=len(frame_seq),\n",
    "        interval=interval,\n",
    "        blit=True\n",
    "    )\n",
    "\n",
    "    if save_path:\n",
    "        fps = 5000 / interval\n",
    "        anim.save(save_path, writer='pillow', fps=fps)\n",
    "\n",
    "    plt.close(fig)\n",
    "    return anim"
   ]
  },
  {
   "cell_type": "code",
   "execution_count": 12,
   "id": "79bcc519-eaac-4b7a-bef8-5b8cb5592065",
   "metadata": {},
   "outputs": [
    {
     "data": {
      "text/plain": [
       "<matplotlib.animation.FuncAnimation at 0x7fdec5a69430>"
      ]
     },
     "execution_count": 12,
     "metadata": {},
     "output_type": "execute_result"
    }
   ],
   "source": [
    "save_path = \"../figures/ising.gif\"\n",
    "animate_lattices(sigmas.cpu().numpy(), save_path=save_path)"
   ]
  }
 ],
 "metadata": {
  "kernelspec": {
   "display_name": "Python [conda env:.conda-tensor]",
   "language": "python",
   "name": "conda-env-.conda-tensor-py"
  },
  "language_info": {
   "codemirror_mode": {
    "name": "ipython",
    "version": 3
   },
   "file_extension": ".py",
   "mimetype": "text/x-python",
   "name": "python",
   "nbconvert_exporter": "python",
   "pygments_lexer": "ipython3",
   "version": "3.12.8"
  }
 },
 "nbformat": 4,
 "nbformat_minor": 5
}
