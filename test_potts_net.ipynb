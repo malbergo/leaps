{
 "cells": [
  {
   "cell_type": "code",
   "execution_count": 9,
   "id": "d795e1f0-8942-47ac-a482-a236845f3aff",
   "metadata": {},
   "outputs": [],
   "source": [
    "from src.nets.conv import GridEmbedding\n",
    "import torch\n",
    "from copy import deepcopy"
   ]
  },
  {
   "cell_type": "code",
   "execution_count": 39,
   "id": "199377c3-bec4-4363-96ab-bcdb5a660ff5",
   "metadata": {},
   "outputs": [
    {
     "name": "stdout",
     "output_type": "stream",
     "text": [
      "Output shape: torch.Size([4, 16, 8, 8])\n"
     ]
    }
   ],
   "source": [
    "# Example usage:\n",
    "device = torch.device('cuda')\n",
    "bs, L, n_cat, C = 4, 8, 10, 16\n",
    "dummy_input = torch.randint(0, n_cat, (bs, L, L)).to(device)\n",
    "t = torch.rand(size=(bs,)).to(device)\n",
    "model = GridEmbedding(n_cat, C).to(device)\n",
    "embedded_output = model(dummy_input)\n",
    "print(\"Output shape:\", embedded_output.shape)"
   ]
  },
  {
   "cell_type": "code",
   "execution_count": 40,
   "id": "1be9c516-27c1-47af-a7be-ad783b1f0822",
   "metadata": {},
   "outputs": [],
   "source": [
    "from src.nets.conv import PottsLocEquivConvNet"
   ]
  },
  {
   "cell_type": "code",
   "execution_count": 41,
   "id": "2a360b17-3d4c-42e3-b93b-8cdb863c5ed9",
   "metadata": {},
   "outputs": [],
   "source": [
    "potts_net = PottsLocEquivConvNet(n_cat=n_cat,kernel_sizes=[3,5,7], num_channels=4).to(device)"
   ]
  },
  {
   "cell_type": "code",
   "execution_count": 42,
   "id": "4e5064f5-1acb-4acf-90ff-a0af85272a40",
   "metadata": {},
   "outputs": [],
   "source": [
    "output = potts_net(dummy_input,t)"
   ]
  },
  {
   "cell_type": "markdown",
   "id": "30248662-2175-46fb-b332-ff27706936cb",
   "metadata": {},
   "source": [
    "Check local equivariance."
   ]
  },
  {
   "cell_type": "code",
   "execution_count": 43,
   "id": "1752e043-d741-4b9e-b7a3-5372f0d86271",
   "metadata": {},
   "outputs": [
    {
     "name": "stdout",
     "output_type": "stream",
     "text": [
      "Flow from x to neighbors:  tensor([-0.6198,  1.8594,  0.0296, -0.1962], device='cuda:0',\n",
      "       grad_fn=<IndexBackward0>)\n",
      "Flow neighbors to x:  tensor([ 0.6198, -1.8594, -0.0296,  0.1962], device='cuda:0',\n",
      "       grad_fn=<IndexBackward0>)\n"
     ]
    }
   ],
   "source": [
    "idx = 3\n",
    "idy = 4\n",
    "old_cat = dummy_input[:,idx,idy]\n",
    "cp_dummy_input = deepcopy(dummy_input)\n",
    "new_cat = torch.randint(0,n_cat,size=old_cat.shape)\n",
    "cp_dummy_input[:,idx,idy] = new_cat\n",
    "cp_output = potts_net(cp_dummy_input,t)\n",
    "\n",
    "print(\"Flow from x to neighbors: \", output[torch.arange(len(new_cat)),new_cat,idx,idy])\n",
    "print(\"Flow neighbors to x: \", cp_output[torch.arange(len(new_cat)),old_cat,idx,idy])"
   ]
  },
  {
   "cell_type": "code",
   "execution_count": 44,
   "id": "d739123d-4e09-4a71-bf26-4f11f95fe461",
   "metadata": {},
   "outputs": [],
   "source": [
    "from src.nets.conv import ConvPottsRateMatrix"
   ]
  },
  {
   "cell_type": "code",
   "execution_count": 45,
   "id": "82d39a21-4554-4fea-b95f-de7230fcb323",
   "metadata": {},
   "outputs": [],
   "source": [
    "potts_matrix = ConvPottsRateMatrix(n_cat=n_cat,kernel_sizes=[3,5,7], num_channels=4).to(device)"
   ]
  },
  {
   "cell_type": "code",
   "execution_count": 46,
   "id": "72e74f3c-e487-455c-ab8a-eaca08d97a52",
   "metadata": {},
   "outputs": [],
   "source": [
    "out_rates, stay_rate = potts_matrix.get_out_rates(dummy_input, t)"
   ]
  },
  {
   "cell_type": "code",
   "execution_count": 47,
   "id": "111cb19d-ab32-4758-9708-047731b7d365",
   "metadata": {},
   "outputs": [],
   "source": [
    "in_rates , stay_rates = potts_matrix.get_in_rates(dummy_input,t)"
   ]
  },
  {
   "cell_type": "code",
   "execution_count": 48,
   "id": "95fcb93f-4871-4ebc-ba17-5576b9f803ae",
   "metadata": {},
   "outputs": [],
   "source": [
    "neighbor_lh_ratios = 2.0*torch.randn(size=(dummy_input.shape[0],n_cat,dummy_input.shape[1], dummy_input.shape[2])).to(device)\n",
    "jarz_corrector = potts_matrix.get_jarzinsky_corrector(dummy_input, t, neighbor_lh_ratios)"
   ]
  },
  {
   "cell_type": "code",
   "execution_count": 49,
   "id": "a87ab33c-c115-4563-b9a0-50918a557e6e",
   "metadata": {},
   "outputs": [],
   "source": [
    "next_step = potts_matrix.sample_next_step(dummy_input, t, 0.1*t)"
   ]
  },
  {
   "cell_type": "markdown",
   "id": "dae69fb4-0f48-42d3-a4c8-5d9fb0229512",
   "metadata": {},
   "source": [
    "Show correct implementation of in-rates and out-rates:"
   ]
  },
  {
   "cell_type": "code",
   "execution_count": 61,
   "id": "05376985-f6e2-4916-9c52-43e29e9451ab",
   "metadata": {},
   "outputs": [],
   "source": [
    "idx = 2\n",
    "idy = 3\n",
    "old_cat = dummy_input[:,idx,idy]\n",
    "cp_dummy_input = deepcopy(dummy_input)\n",
    "new_cat = torch.randint(0,n_cat,size=old_cat.shape)\n",
    "cp_dummy_input[:,idx,idy] = new_cat\n",
    "cp_output = potts_net(cp_dummy_input,t)"
   ]
  },
  {
   "cell_type": "code",
   "execution_count": 62,
   "id": "0c79ee96-64a6-4d5d-8638-2905b6a63845",
   "metadata": {},
   "outputs": [],
   "source": [
    "out_rates,_=potts_matrix.get_in_rates(dummy_input, t)"
   ]
  },
  {
   "cell_type": "code",
   "execution_count": 63,
   "id": "92fcb6b6-481c-44f9-a6e5-b780c7ace9ba",
   "metadata": {},
   "outputs": [],
   "source": [
    "in_rates,_=potts_matrix.get_out_rates(cp_dummy_input, t)"
   ]
  },
  {
   "cell_type": "code",
   "execution_count": 65,
   "id": "bd574558-365f-4afc-96eb-12934e955493",
   "metadata": {},
   "outputs": [
    {
     "name": "stdout",
     "output_type": "stream",
     "text": [
      "Outflow from x to neighbors:  tensor([0.0000, 0.7520, 0.0000, 0.0000], device='cuda:0',\n",
      "       grad_fn=<IndexBackward0>)\n",
      "Inflow from neighbors to x:  tensor([0.0000, 0.7520, 0.0000, 0.0000], device='cuda:0',\n",
      "       grad_fn=<IndexBackward0>)\n"
     ]
    }
   ],
   "source": [
    "print(\"Outflow from x to neighbors: \", out_rates[torch.arange(len(new_cat)),new_cat,idx,idy])\n",
    "print(\"Inflow from neighbors to x: \", in_rates[torch.arange(len(new_cat)),old_cat,idx,idy])"
   ]
  },
  {
   "cell_type": "code",
   "execution_count": null,
   "id": "004f1017-23b1-4f9d-b304-cf44816d8dd3",
   "metadata": {},
   "outputs": [],
   "source": []
  }
 ],
 "metadata": {
  "kernelspec": {
   "display_name": "Python 3 (ipykernel)",
   "language": "python",
   "name": "python3"
  },
  "language_info": {
   "codemirror_mode": {
    "name": "ipython",
    "version": 3
   },
   "file_extension": ".py",
   "mimetype": "text/x-python",
   "name": "python",
   "nbconvert_exporter": "python",
   "pygments_lexer": "ipython3",
   "version": "3.9.18"
  }
 },
 "nbformat": 4,
 "nbformat_minor": 5
}
