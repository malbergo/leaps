{
 "cells": [
  {
   "cell_type": "code",
   "execution_count": 1,
   "id": "c9a5dd69-a3fa-4c3c-bfb8-8c75284a3185",
   "metadata": {},
   "outputs": [],
   "source": [
    "import torch\n",
    "import torch.nn as nn\n",
    "from torch.func import vmap, jacfwd\n",
    "from dataclasses import dataclass\n",
    "\n",
    "import numpy as np\n",
    "\n",
    "from src.modules.rhot import Potts, make_potts\n",
    "from src.modules.sampler import DiscreteJarzynskiIntegrator\n",
    "from argparse import Namespace"
   ]
  },
  {
   "cell_type": "code",
   "execution_count": 2,
   "id": "a8e017bd-320c-454f-99ee-664efa1cddda",
   "metadata": {},
   "outputs": [],
   "source": [
    "device = torch.device('cuda')"
   ]
  },
  {
   "cell_type": "code",
   "execution_count": 3,
   "id": "85fc3f2b-ab2f-4ef6-bac9-cc312e923dc2",
   "metadata": {},
   "outputs": [
    {
     "name": "stdout",
     "output_type": "stream",
     "text": [
      "Js: tensor(10.) tensor(0.)\n",
      "Bs: tensor(0.) tensor(0.)\n",
      "betas: tensor(1.) tensor(1.)\n"
     ]
    }
   ],
   "source": [
    "config = Namespace(path='linear',L=6, n_cat=5,J_0=0, J_1=10, B_0=0, B_1=0, mu_0=0, mu_1=0, beta_0=1, beta_1=1)\n",
    "potts_model = make_potts(config)"
   ]
  },
  {
   "cell_type": "markdown",
   "id": "8e77384e-dd4e-4ba9-9f9a-e735af20dc58",
   "metadata": {},
   "source": [
    "Set hyperparameter"
   ]
  },
  {
   "cell_type": "code",
   "execution_count": 4,
   "id": "791ccac1-7c13-4600-b85a-19e31dddb9d3",
   "metadata": {},
   "outputs": [],
   "source": [
    "from src.nets.conv import ConvPottsRateMatrix\n",
    "potts_matrix = ConvPottsRateMatrix(n_cat=config.n_cat,kernel_sizes=[3,5,7], num_channels=4).to(device)"
   ]
  },
  {
   "cell_type": "code",
   "execution_count": 5,
   "id": "ae95c352-979a-4ddf-93c5-3df03977b18b",
   "metadata": {},
   "outputs": [],
   "source": [
    "eps = 0.05\n",
    "ts = torch.linspace(0,1,101)\n",
    "transport = True\n",
    "n_save = 10\n",
    "resample = False\n",
    "resample_thres = 0.7\n",
    "turn_off_jarz = False"
   ]
  },
  {
   "cell_type": "code",
   "execution_count": 6,
   "id": "11810d86-bb35-4180-bac9-eaa77934a12b",
   "metadata": {},
   "outputs": [],
   "source": [
    "# @dataclass\n",
    "# class PottsJarzynskiIntegrator:\n",
    "#     dpath: Potts\n",
    "#     eps: torch.tensor\n",
    "#     ts: torch.tensor\n",
    "#     Qt_net: nn.Module = None,\n",
    "#     transport: bool = False\n",
    "#     n_save: int  = 10\n",
    "#     resample: bool = False\n",
    "#     resample_thres: float = 0.7\n",
    "#     turn_off_jarz: bool = False\n",
    "#     n_mcmcm_per_net: int = 1\n",
    "\n",
    "#     def __post_init__(self) -> None:\n",
    "#         \"\"\"Initialize time grid and step size.\"\"\"\n",
    "#         self.n_step = len(self.ts) - 1\n",
    "#         assert self.n_save > 0 ## will always save the first sample\n",
    "#         assert self.n_step % self.n_save == 0, f\"{self.n_step} is not divisible by {self.n_save}\"\n",
    "#         self.save_freq = self.n_step // self.n_save\n",
    "        \n",
    "        \n",
    "#     def ess(self, At):\n",
    "#         return torch.mean(torch.exp(At))**2 / torch.mean(torch.exp(2*At))\n",
    "        \n",
    "#     def _single_step_potts_glauber(self, cfg, t, dt):\n",
    "#         \"\"\"\n",
    "#         Perform a Glauer update on Potts model for a single spin configuration (cfg).\n",
    "\n",
    "#         cfg : (L, L)\n",
    "#         t: float\n",
    "#         dt: float\n",
    "\n",
    "#         Returns\n",
    "#         new_cfg:  (L, L)\n",
    "\n",
    "        \n",
    "#         \"\"\"\n",
    "#         raise NotImplementedError()\n",
    "        \n",
    "#         # J, mu, B, beta = self.dpath.setup_params(t)\n",
    "    \n",
    "#         # L = cfg.shape[0]\n",
    "        \n",
    "#         # row = np.random.randint(0, L, ())\n",
    "#         # col = np.random.randint(0, L, ())\n",
    "#         # spins = cfg[row, col]\n",
    "    \n",
    "#         # # neighbors\n",
    "#         # up_row = (row - 1) % L\n",
    "#         # down_row = (row + 1) % L\n",
    "#         # left_col = (col - 1) % L\n",
    "#         # right_col = (col + 1) % L\n",
    "\n",
    "#         # # local neighbor interaction\n",
    "#         # neighbor_sum = cfg[up_row, col] + cfg[down_row, col] + cfg[row, left_col] + cfg[row, right_col]\n",
    "#         # local_energy = J * neighbor_sum + mu * B\n",
    "#         # delta_E = 2.0 * spins * local_energy\n",
    "    \n",
    "#         # acc = torch.exp(-beta * delta_E)\n",
    "#         # acc = torch.minimum(acc, torch.tensor(1)) \n",
    "\n",
    "\n",
    "#         # flip =  (torch.rand(1, device=cfg.device) < acc)\n",
    "#         # # minus or plus 1 depending on if flip is true or flase respectively\n",
    "#         # pm1 = torch.where(flip, torch.tensor(-1.0, device=cfg.device), torch.tensor(1.0, device=cfg.device))\n",
    "#         # cfg[row, col] = pm1 * cfg[row, col] \n",
    "\n",
    "#         # return cfg\n",
    "\n",
    "#     def metropolis_step(self, cfgs, t, dt):\n",
    "#         \"\"\"\n",
    "#         Perform a Glauber update on a batch of spin configurations (cfgs).\n",
    "#         \"\"\"\n",
    "#         bs = cfgs.shape[0]\n",
    "#         return vmap(self._single_step_potts_glauber, in_dims = (0, 0, 0),\n",
    "#                     out_dims=(0), randomness='different')(cfgs, t, dt)\n",
    "\n",
    "#     def sigma_step(self, sigma, t, dt):\n",
    "#         L = sigma.shape[-1]\n",
    "#         if self.transport:\n",
    "#             with torch.no_grad():\n",
    "#                 sigma_new = self.Qt_net.sample_next_step(sigma, t, dt)\n",
    "#         else:\n",
    "#             sigma_new = sigma\n",
    "#         for idx in range(n_mcmcm_per_net):\n",
    "#             sigma_new = self.metropolis_step(sigma_new,t,dt)\n",
    "#         return sigma_new, None\n",
    "        \n",
    "#     def A_step(self, sigma, t, A, dt):\n",
    "#         L = sigma.shape[-1]\n",
    "#         if self.transport and not self.turn_off_jarz:   \n",
    "#             _, delta_H_neighbors = self.dpath.Ut(sigma, t)\n",
    "#             lh_ratios = torch.exp(-delta_H_neighbors)\n",
    "#             with torch.no_grad():\n",
    "#                 jarz_corrector = self.Qt_net.get_jarzinsky_corrector(sigma, t, lh_ratios)\n",
    "#             return A - dt * self.dpath.dtUt(sigma,t)[0] - dt * jarz_corrector\n",
    "#         else:\n",
    "#             return A - dt * self.dpath.dtUt(sigma,t)[0]\n",
    "    \n",
    "#     def rollout(self, sigma_init):\n",
    "#         \"\"\"\n",
    "#         Performs the rollout\n",
    "#         \"\"\"\n",
    "#         bs = sigma_init.shape[0]\n",
    "#         sigma_stack = torch.zeros((self.n_save+1, *sigma_init.shape)).to(sigma_init)\n",
    "#         As = torch.zeros((self.n_save+1, bs)).to(sigma_init)\n",
    "\n",
    "#         # initialize weights A to zero\n",
    "#         A = torch.zeros(bs).to(sigma_init)\n",
    "#         sigma = sigma_init\n",
    "        \n",
    "#         sigma_stack[0] = sigma_init.detach()\n",
    "#         As[0] = A\n",
    "        \n",
    "#         save_ind = 1\n",
    "#         resample_count = 0\n",
    "#         for i, t in enumerate(self.ts[:-1]):\n",
    "#             dt = (self.ts[i+1] - self.ts[i]).repeat(len(sigma)).to(sigma_init.device) ### assumes first element in self.ts is 0\n",
    "#             t = t.repeat(len(sigma)).to(sigma_init.device) #.requires_grad_(True)\n",
    "#             sigma = sigma.to(sigma_init)\n",
    "#             A = A.to(sigma_init)\n",
    "#             sigma_new, _ = self.sigma_step(sigma, t, dt)\n",
    "#             A_new = self.A_step(sigma, t, A, dt)\n",
    "\n",
    "#             t_new = self.ts[i+1].repeat(len(sigma)) #.requires_grad_(True)\n",
    "\n",
    "            \n",
    "#             if self.ess(A_new.double()) < self.resample_thres and self.resample:\n",
    "#                 resample_count +=1\n",
    "#                 print(\"i:\", i, \"resample cout:\", resample_count)\n",
    "#                 weights = torch.softmax(A_new, dim = 0)\n",
    "#                 indices = systematic_resample(weights)\n",
    "#                 sigma_new   = torch.clone(sigma_new[indices])\n",
    "#                 A_new   = torch.zeros(len(weights)).to(sigma_init)\n",
    "                \n",
    "#             if (i + 1) % self.save_freq == 0:            \n",
    "#                 sigma_stack[save_ind] = torch.clone(sigma_new.detach())\n",
    "#                 As[save_ind] = torch.clone(A_new.detach())\n",
    "#                 save_ind += 1\n",
    "\n",
    "#             sigma = sigma.detach()\n",
    "#             del sigma\n",
    "#             sigma = sigma_new.detach()\n",
    "#             A = A_new.detach()\n",
    "#             del sigma_new, A_new\n",
    "\n",
    "#         sigma_stack[-1] = sigma.detach()\n",
    "#         As[-1] = A.detach()\n",
    "\n",
    "#         return sigma_stack, As"
   ]
  },
  {
   "cell_type": "code",
   "execution_count": 7,
   "id": "264809fe-ab26-4909-aa06-40588f45b767",
   "metadata": {},
   "outputs": [],
   "source": [
    "integrator = DiscreteJarzynskiIntegrator(dpath=potts_model,\n",
    "    eps=eps,\n",
    "    ts=ts,\n",
    "    Qt_net=potts_matrix.to(device),\n",
    "    transport=transport,\n",
    "    n_save=n_save,\n",
    "    resample=resample,\n",
    "    resample_thres=resample_thres,\n",
    "    model_class=\"potts\",\n",
    "    turn_off_jarz=turn_off_jarz, \n",
    "    n_mcmc_per_net=0)"
   ]
  },
  {
   "cell_type": "code",
   "execution_count": 8,
   "id": "949fd778-644c-4c99-a2a1-3aa17b5500f4",
   "metadata": {},
   "outputs": [],
   "source": [
    "for idx in range(integrator.n_mcmc_per_net):\n",
    "    print(\"Hello\")"
   ]
  },
  {
   "cell_type": "code",
   "execution_count": 9,
   "id": "56899751-4e22-495e-9819-58ecfa6e1316",
   "metadata": {},
   "outputs": [],
   "source": [
    "bs = 10\n",
    "x = torch.randint(0,config.n_cat,size=(bs,config.L,config.L)).to(device)\n",
    "t = torch.rand(size=(bs,)).to(device)"
   ]
  },
  {
   "cell_type": "code",
   "execution_count": 10,
   "id": "eee676ed-6392-4806-b880-fba1ac8bf655",
   "metadata": {},
   "outputs": [
    {
     "data": {
      "text/plain": [
       "0"
      ]
     },
     "execution_count": 10,
     "metadata": {},
     "output_type": "execute_result"
    }
   ],
   "source": [
    "integrator.n_mcmc_per_net"
   ]
  },
  {
   "cell_type": "code",
   "execution_count": 14,
   "id": "80e9989e-7de7-4140-a6ee-1e383ad3e7c2",
   "metadata": {},
   "outputs": [],
   "source": [
    "sigma_stack, As = integrator.rollout(x)"
   ]
  },
  {
   "cell_type": "code",
   "execution_count": 15,
   "id": "96fb9c34-5fd2-4378-99b5-256b0350f7db",
   "metadata": {},
   "outputs": [
    {
     "data": {
      "text/plain": [
       "torch.Size([10])"
      ]
     },
     "execution_count": 15,
     "metadata": {},
     "output_type": "execute_result"
    }
   ],
   "source": [
    "potts_model.dtUt(x,t)[0].shape"
   ]
  },
  {
   "cell_type": "code",
   "execution_count": 16,
   "id": "45a241f8-5725-470b-9ab0-0ab0e921db98",
   "metadata": {
    "scrolled": true
   },
   "outputs": [
    {
     "data": {
      "text/plain": [
       "torch.Size([11, 10, 6, 6])"
      ]
     },
     "execution_count": 16,
     "metadata": {},
     "output_type": "execute_result"
    }
   ],
   "source": [
    "sigma_stack.shape"
   ]
  },
  {
   "cell_type": "code",
   "execution_count": null,
   "id": "7460e15e-4666-4d92-bee8-7d8e0e6d09a3",
   "metadata": {},
   "outputs": [],
   "source": []
  }
 ],
 "metadata": {
  "kernelspec": {
   "display_name": "Python 3 (ipykernel)",
   "language": "python",
   "name": "python3"
  },
  "language_info": {
   "codemirror_mode": {
    "name": "ipython",
    "version": 3
   },
   "file_extension": ".py",
   "mimetype": "text/x-python",
   "name": "python",
   "nbconvert_exporter": "python",
   "pygments_lexer": "ipython3",
   "version": "3.9.18"
  }
 },
 "nbformat": 4,
 "nbformat_minor": 5
}
