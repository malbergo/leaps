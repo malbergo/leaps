{
 "cells": [
  {
   "cell_type": "code",
   "execution_count": 1,
   "id": "4b84c22d-95be-4f26-917f-e39d980e7fa0",
   "metadata": {},
   "outputs": [],
   "source": [
    "import torch\n",
    "\n",
    "import lightning as L\n",
    "import numpy as np\n",
    "\n",
    "import sys\n",
    "extra_path = \"/n/home08/albergo/projects/discrete-diffusion/leaps/\"\n",
    "if extra_path not in sys.path:\n",
    "    sys.path.append(extra_path)\n",
    "    \n",
    "from src.modules.trainer import IsingLightningModule\n",
    "from src.modules.sampler import DiscreteJarzynskiIntegrator"
   ]
  },
  {
   "cell_type": "markdown",
   "id": "4ec91773-c7e9-468a-9beb-4813f5842fb7",
   "metadata": {},
   "source": [
    "### Load model"
   ]
  },
  {
   "cell_type": "code",
   "execution_count": null,
   "id": "6d828c5d-2b65-4cca-b95d-36c3c951dd79",
   "metadata": {},
   "outputs": [],
   "source": [
    "L        = 15\n",
    "task     = 'ising'\n",
    "run_num  = '23k'\n",
    "# epoch    = 0\n",
    "# step     = 200\n",
    "prior    = 'normal'\n",
    "base_dir = '/mnt/ceph/users/malbergo/map-matching'\n",
    "\n",
    "fpath = f\"{base_dir}/{task}/{dataset}/expts/{target}/ckpts/\"\n",
    "# ckpt  = f\"epoch={epoch}-step={step}.ckpt\"\n",
    "ckpt  = f\"last.ckpt\"\n",
    "\n",
    "print(fpath+ckpt)"
   ]
  },
  {
   "cell_type": "code",
   "execution_count": null,
   "id": "46cff447-bba1-4d65-ae41-1bef630ff662",
   "metadata": {},
   "outputs": [],
   "source": []
  },
  {
   "cell_type": "markdown",
   "id": "96fb33f5-b6dc-4d00-96a5-7db2dfdc9f0a",
   "metadata": {},
   "source": [
    "### Sample model"
   ]
  },
  {
   "cell_type": "code",
   "execution_count": null,
   "id": "8cc71abc-9af2-4d4a-b217-57647ff3a3ba",
   "metadata": {},
   "outputs": [],
   "source": [
    "final_t = 1.0\n",
    "n_step = 100\n",
    "t_set = final_t*torch.rand(n_step - 1) # -1 because we append 1.0 at the end\n",
    "t_set = torch.cat((torch.tensor([0.0]), t_set, torch.tensor([final_t])))\n",
    "# Sort the numbers to get randomly spaced samples\n",
    "ts = torch.sort(t_set).values.to(device)\n",
    "eps = torch.tensor(n_step).to(device)\n",
    "jit = DiscreteJarzynskiIntegrator(Energy, eps, ts, Qt_net=LOADEDNEETTTTT, transport = False, \n",
    "                              n_save = k, device=device, resample = False, resample_thres = 0.5)\n",
    "\n",
    "for i in range(5):\n",
    "    bs = 3000\n",
    "    sigma_vec = 2 * torch.randint(0,2,size=(bs, L, L)).float().to(device) - 1\n",
    "    sigmas, As = jit.rollout(sigma_vec) \n",
    "    \n",
    "    sigmas = sigmas.detach()\n",
    "    As     = As.detach()\n",
    "    sigmas_set.append(sigmas[-1])\n",
    "    As_set.append(As[-1])\n",
    "    "
   ]
  }
 ],
 "metadata": {
  "kernelspec": {
   "display_name": "Python [conda env:.conda-tensor]",
   "language": "python",
   "name": "conda-env-.conda-tensor-py"
  },
  "language_info": {
   "codemirror_mode": {
    "name": "ipython",
    "version": 3
   },
   "file_extension": ".py",
   "mimetype": "text/x-python",
   "name": "python",
   "nbconvert_exporter": "python",
   "pygments_lexer": "ipython3",
   "version": "3.12.8"
  }
 },
 "nbformat": 4,
 "nbformat_minor": 5
}
